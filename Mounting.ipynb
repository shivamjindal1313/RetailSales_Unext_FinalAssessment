{
 "cells": [
  {
   "cell_type": "code",
   "execution_count": 0,
   "metadata": {
    "application/vnd.databricks.v1+cell": {
     "cellMetadata": {
      "byteLimit": 2048000,
      "rowLimit": 10000
     },
     "inputWidgets": {},
     "nuid": "15019e3a-73dd-4ab2-99a4-59f505f51d8f",
     "showTitle": false,
     "title": ""
    }
   },
   "outputs": [],
   "source": [
    "from pyspark.sql.functions import col,sum,isnan,when,count"
   ]
  },
  {
   "cell_type": "code",
   "execution_count": 0,
   "metadata": {
    "application/vnd.databricks.v1+cell": {
     "cellMetadata": {
      "byteLimit": 2048000,
      "rowLimit": 10000
     },
     "inputWidgets": {},
     "nuid": "47b1df97-477f-451b-835e-26ef18cf8901",
     "showTitle": false,
     "title": ""
    }
   },
   "outputs": [
    {
     "output_type": "display_data",
     "data": {
      "text/plain": [
       "\u001B[0;31m---------------------------------------------------------------------------\u001B[0m\n",
       "\u001B[0;31mExecutionError\u001B[0m                            Traceback (most recent call last)\n",
       "File \u001B[0;32m<command-4171614014587375>, line 6\u001B[0m\n",
       "\u001B[1;32m      3\u001B[0m strKey\u001B[38;5;241m=\u001B[39m\u001B[38;5;124m\"\u001B[39m\u001B[38;5;124mfs.azure.account.key.sa05octshivam.blob.core.windows.net\u001B[39m\u001B[38;5;124m\"\u001B[39m\n",
       "\u001B[1;32m      4\u001B[0m strValue\u001B[38;5;241m=\u001B[39m\u001B[38;5;124m\"\u001B[39m\u001B[38;5;124mzNp5NWDcehwpS5bwhu8KtcJa995RNonyglvLW9MJHvmG088g6tMP0lkX7Ec1OAZU+91cLrn86joW+AStShqUdw==\u001B[39m\u001B[38;5;124m\"\u001B[39m\n",
       "\u001B[0;32m----> 6\u001B[0m result\u001B[38;5;241m=\u001B[39mdbutils\u001B[38;5;241m.\u001B[39mfs\u001B[38;5;241m.\u001B[39mmount(\n",
       "\u001B[1;32m      7\u001B[0m     source\u001B[38;5;241m=\u001B[39mstrSource,\n",
       "\u001B[1;32m      8\u001B[0m     mount_point\u001B[38;5;241m=\u001B[39mstrMountPoint,\n",
       "\u001B[1;32m      9\u001B[0m     extra_configs\u001B[38;5;241m=\u001B[39m{strKey:strValue}\n",
       "\u001B[1;32m     10\u001B[0m )\n",
       "\n",
       "File \u001B[0;32m/databricks/python_shell/dbruntime/dbutils.py:362\u001B[0m, in \u001B[0;36mDBUtils.FSHandler.prettify_exception_message.<locals>.f_with_exception_handling\u001B[0;34m(*args, **kwargs)\u001B[0m\n",
       "\u001B[1;32m    360\u001B[0m exc\u001B[38;5;241m.\u001B[39m__context__ \u001B[38;5;241m=\u001B[39m \u001B[38;5;28;01mNone\u001B[39;00m\n",
       "\u001B[1;32m    361\u001B[0m exc\u001B[38;5;241m.\u001B[39m__cause__ \u001B[38;5;241m=\u001B[39m \u001B[38;5;28;01mNone\u001B[39;00m\n",
       "\u001B[0;32m--> 362\u001B[0m \u001B[38;5;28;01mraise\u001B[39;00m exc\n",
       "\n",
       "\u001B[0;31mExecutionError\u001B[0m: An error occurred while calling o474.mount.\n",
       ": java.rmi.RemoteException: java.lang.IllegalArgumentException: requirement failed: Directory already mounted: /mnt/mp2; nested exception is: \n",
       "\tjava.lang.IllegalArgumentException: requirement failed: Directory already mounted: /mnt/mp2\n",
       "\tat com.databricks.backend.daemon.data.client.DbfsClient.send0(DbfsClient.scala:135)\n",
       "\tat com.databricks.backend.daemon.data.client.DbfsClient.sendIdempotent(DbfsClient.scala:69)\n",
       "\tat com.databricks.backend.daemon.dbutils.DBUtilsCore.createOrUpdateMount(DBUtilsCore.scala:1057)\n",
       "\tat com.databricks.backend.daemon.dbutils.DBUtilsCore.$anonfun$mount$1(DBUtilsCore.scala:1083)\n",
       "\tat com.databricks.logging.UsageLogging.$anonfun$recordOperation$1(UsageLogging.scala:571)\n",
       "\tat com.databricks.logging.UsageLogging.executeThunkAndCaptureResultTags$1(UsageLogging.scala:666)\n",
       "\tat com.databricks.logging.UsageLogging.$anonfun$recordOperationWithResultTags$4(UsageLogging.scala:684)\n",
       "\tat com.databricks.logging.UsageLogging.$anonfun$withAttributionContext$1(UsageLogging.scala:426)\n",
       "\tat scala.util.DynamicVariable.withValue(DynamicVariable.scala:62)\n",
       "\tat com.databricks.logging.AttributionContext$.withValue(AttributionContext.scala:196)\n",
       "\tat com.databricks.logging.UsageLogging.withAttributionContext(UsageLogging.scala:424)\n",
       "\tat com.databricks.logging.UsageLogging.withAttributionContext$(UsageLogging.scala:418)\n",
       "\tat com.databricks.backend.daemon.dbutils.FSUtils.withAttributionContext(DBUtilsCore.scala:69)\n",
       "\tat com.databricks.logging.UsageLogging.withAttributionTags(UsageLogging.scala:470)\n",
       "\tat com.databricks.logging.UsageLogging.withAttributionTags$(UsageLogging.scala:455)\n",
       "\tat com.databricks.backend.daemon.dbutils.FSUtils.withAttributionTags(DBUtilsCore.scala:69)\n",
       "\tat com.databricks.logging.UsageLogging.recordOperationWithResultTags(UsageLogging.scala:661)\n",
       "\tat com.databricks.logging.UsageLogging.recordOperationWithResultTags$(UsageLogging.scala:580)\n",
       "\tat com.databricks.backend.daemon.dbutils.FSUtils.recordOperationWithResultTags(DBUtilsCore.scala:69)\n",
       "\tat com.databricks.logging.UsageLogging.recordOperation(UsageLogging.scala:571)\n",
       "\tat com.databricks.logging.UsageLogging.recordOperation$(UsageLogging.scala:540)\n",
       "\tat com.databricks.backend.daemon.dbutils.FSUtils.recordOperation(DBUtilsCore.scala:69)\n",
       "\tat com.databricks.backend.daemon.dbutils.FSUtils.recordDbutilsFsOp(DBUtilsCore.scala:133)\n",
       "\tat com.databricks.backend.daemon.dbutils.DBUtilsCore.mount(DBUtilsCore.scala:1077)\n",
       "\tat sun.reflect.NativeMethodAccessorImpl.invoke0(Native Method)\n",
       "\tat sun.reflect.NativeMethodAccessorImpl.invoke(NativeMethodAccessorImpl.java:62)\n",
       "\tat sun.reflect.DelegatingMethodAccessorImpl.invoke(DelegatingMethodAccessorImpl.java:43)\n",
       "\tat java.lang.reflect.Method.invoke(Method.java:498)\n",
       "\tat py4j.reflection.MethodInvoker.invoke(MethodInvoker.java:244)\n",
       "\tat py4j.reflection.ReflectionEngine.invoke(ReflectionEngine.java:397)\n",
       "\tat py4j.Gateway.invoke(Gateway.java:306)\n",
       "\tat py4j.commands.AbstractCommand.invokeMethod(AbstractCommand.java:132)\n",
       "\tat py4j.commands.CallCommand.execute(CallCommand.java:79)\n",
       "\tat py4j.ClientServerConnection.waitForCommands(ClientServerConnection.java:195)\n",
       "\tat py4j.ClientServerConnection.run(ClientServerConnection.java:115)\n",
       "\tat java.lang.Thread.run(Thread.java:750)\n",
       "Caused by: java.lang.IllegalArgumentException: requirement failed: Directory already mounted: /mnt/mp2\n",
       "\tat scala.Predef$.require(Predef.scala:281)\n",
       "\tat com.databricks.backend.daemon.data.server.DefaultMetadataManager.$anonfun$insertMount$1(MetadataManager.scala:580)\n",
       "\tat com.databricks.backend.daemon.data.server.DefaultMetadataManager.$anonfun$modifyAndVerify$2(MetadataManager.scala:948)\n",
       "\tat scala.runtime.java8.JFunction0$mcV$sp.apply(JFunction0$mcV$sp.java:23)\n",
       "\tat com.databricks.backend.daemon.data.server.DefaultMetadataManager.withRetries(MetadataManager.scala:729)\n",
       "\tat com.databricks.backend.daemon.data.server.DefaultMetadataManager.modifyAndVerify(MetadataManager.scala:937)\n",
       "\tat com.databricks.backend.daemon.data.server.DefaultMetadataManager.insertMount(MetadataManager.scala:588)\n",
       "\tat com.databricks.backend.daemon.data.server.handler.MountHandler.receive(MountHandler.scala:120)\n",
       "\tat com.databricks.backend.daemon.data.server.session.SessionContext.$anonfun$queryHandlers$1(SessionContext.scala:54)\n",
       "\tat com.databricks.backend.daemon.data.server.session.SessionContext.$anonfun$queryHandlers$1$adapted(SessionContext.scala:53)\n",
       "\tat scala.collection.immutable.List.foreach(List.scala:431)\n",
       "\tat com.databricks.backend.daemon.data.server.session.SessionContext.queryHandlers(SessionContext.scala:53)\n",
       "\tat com.databricks.backend.daemon.data.server.DbfsServerBackend$$anonfun$receive$4.$anonfun$applyOrElse$5(DbfsServerBackend.scala:388)\n",
       "\tat com.databricks.logging.UsageLogging.$anonfun$withAttributionContext$1(UsageLogging.scala:426)\n",
       "\tat scala.util.DynamicVariable.withValue(DynamicVariable.scala:62)\n",
       "\tat com.databricks.logging.AttributionContext$.withValue(AttributionContext.scala:216)\n",
       "\tat com.databricks.logging.UsageLogging.withAttributionContext(UsageLogging.scala:424)\n",
       "\tat com.databricks.logging.UsageLogging.withAttributionContext$(UsageLogging.scala:418)\n",
       "\tat com.databricks.rpc.ServerBackend.withAttributionContext(ServerBackend.scala:22)\n",
       "\tat com.databricks.logging.UsageLogging.withAttributionTags(UsageLogging.scala:472)\n",
       "\tat com.databricks.logging.UsageLogging.withAttributionTags$(UsageLogging.scala:455)\n",
       "\tat com.databricks.rpc.ServerBackend.withAttributionTags(ServerBackend.scala:22)\n",
       "\tat com.databricks.backend.daemon.data.server.DbfsServerBackend$$anonfun$receive$4.applyOrElse(DbfsServerBackend.scala:388)\n",
       "\tat com.databricks.backend.daemon.data.server.DbfsServerBackend$$anonfun$receive$4.applyOrElse(DbfsServerBackend.scala:332)\n",
       "\tat com.databricks.rpc.ServerBackend.$anonfun$internalReceive0$2(ServerBackend.scala:174)\n",
       "\tat com.databricks.rpc.ServerBackend$$anonfun$commonReceive$1.applyOrElse(ServerBackend.scala:200)\n",
       "\tat com.databricks.rpc.ServerBackend$$anonfun$commonReceive$1.applyOrElse(ServerBackend.scala:200)\n",
       "\tat com.databricks.rpc.ServerBackend.internalReceive0(ServerBackend.scala:171)\n",
       "\tat com.databricks.rpc.ServerBackend.$anonfun$internalReceive$1(ServerBackend.scala:147)\n",
       "\tat com.databricks.logging.UsageLogging.$anonfun$recordOperation$1(UsageLogging.scala:573)\n",
       "\tat com.databricks.logging.UsageLogging.executeThunkAndCaptureResultTags$1(UsageLogging.scala:668)\n",
       "\tat com.databricks.logging.UsageLogging.$anonfun$recordOperationWithResultTags$4(UsageLogging.scala:686)\n",
       "\tat com.databricks.logging.UsageLogging.$anonfun$withAttributionContext$1(UsageLogging.scala:426)\n",
       "\tat scala.util.DynamicVariable.withValue(DynamicVariable.scala:62)\n",
       "\tat com.databricks.logging.AttributionContext$.withValue(AttributionContext.scala:216)\n",
       "\tat com.databricks.logging.UsageLogging.withAttributionContext(UsageLogging.scala:424)\n",
       "\tat com.databricks.logging.UsageLogging.withAttributionContext$(UsageLogging.scala:418)\n",
       "\tat com.databricks.rpc.ServerBackend.withAttributionContext(ServerBackend.scala:22)\n",
       "\tat com.databricks.logging.UsageLogging.withAttributionTags(UsageLogging.scala:472)\n",
       "\tat com.databricks.logging.UsageLogging.withAttributionTags$(UsageLogging.scala:455)\n",
       "\tat com.databricks.rpc.ServerBackend.withAttributionTags(ServerBackend.scala:22)\n",
       "\tat com.databricks.logging.UsageLogging.recordOperationWithResultTags(UsageLogging.scala:663)\n",
       "\tat com.databricks.logging.UsageLogging.recordOperationWithResultTags$(UsageLogging.scala:582)\n",
       "\tat com.databricks.rpc.ServerBackend.recordOperationWithResultTags(ServerBackend.scala:22)\n",
       "\tat com.databricks.logging.UsageLogging.recordOperation(UsageLogging.scala:573)\n",
       "\tat com.databricks.logging.UsageLogging.recordOperation$(UsageLogging.scala:542)\n",
       "\tat com.databricks.rpc.ServerBackend.recordOperation(ServerBackend.scala:22)\n",
       "\tat com.databricks.rpc.ServerBackend.internalReceive(ServerBackend.scala:147)\n",
       "\tat com.databricks.rpc.JettyServer$RequestManager.handleRPC(JettyServer.scala:1020)\n",
       "\tat com.databricks.rpc.JettyServer$RequestManager.handleRequestAndRespond(JettyServer.scala:941)\n",
       "\tat com.databricks.rpc.JettyServer$RequestManager.$anonfun$handleHttp$6(JettyServer.scala:545)\n",
       "\tat com.databricks.rpc.JettyServer$RequestManager.$anonfun$handleHttp$6$adapted(JettyServer.scala:514)\n",
       "\tat com.databricks.logging.activity.ActivityContextFactory$.$anonfun$withActivityInternal$3(ActivityContextFactory.scala:398)\n",
       "\tat com.databricks.logging.UsageLogging.$anonfun$withAttributionContext$1(UsageLogging.scala:426)\n",
       "\tat scala.util.DynamicVariable.withValue(DynamicVariable.scala:62)\n",
       "\tat com.databricks.logging.AttributionContext$.withValue(AttributionContext.scala:216)\n",
       "\tat com.databricks.logging.UsageLogging.withAttributionContext(UsageLogging.scala:424)\n",
       "\tat com.databricks.logging.UsageLogging.withAttributionContext$(UsageLogging.scala:418)\n",
       "\tat com.databricks.logging.activity.ActivityContextFactory$.withAttributionContext(ActivityContextFactory.scala:53)\n",
       "\tat com.databricks.logging.activity.ActivityContextFactory$.withActivityInternal(ActivityContextFactory.scala:398)\n",
       "\tat com.databricks.logging.activity.ActivityContextFactory$.withServiceRequestActivity(ActivityContextFactory.scala:154)\n",
       "\tat com.databricks.rpc.JettyServer$RequestManager.handleHttp(JettyServer.scala:514)\n",
       "\tat com.databricks.rpc.JettyServer$RequestManager.doPost(JettyServer.scala:404)\n",
       "\tat javax.servlet.http.HttpServlet.service(HttpServlet.java:665)\n",
       "\tat com.databricks.rpc.HttpServletWithPatch.service(HttpServletWithPatch.scala:33)\n",
       "\tat javax.servlet.http.HttpServlet.service(HttpServlet.java:750)\n",
       "\tat org.eclipse.jetty.servlet.ServletHolder.handle(ServletHolder.java:848)\n",
       "\tat org.eclipse.jetty.servlet.ServletHandler.doHandle(ServletHandler.java:585)\n",
       "\tat org.eclipse.jetty.servlet.ServletHandler.doScope(ServletHandler.java:515)\n",
       "\tat org.eclipse.jetty.server.handler.ScopedHandler.handle(ScopedHandler.java:141)\n",
       "\tat org.eclipse.jetty.server.handler.HandlerWrapper.handle(HandlerWrapper.java:134)\n",
       "\tat org.eclipse.jetty.server.Server.handle(Server.java:539)\n",
       "\tat org.eclipse.jetty.server.HttpChannel.handle(HttpChannel.java:333)\n",
       "\tat org.eclipse.jetty.server.HttpConnection.onFillable(HttpConnection.java:251)\n",
       "\tat org.eclipse.jetty.io.AbstractConnection$ReadCallback.succeeded(AbstractConnection.java:283)\n",
       "\tat org.eclipse.jetty.io.FillInterest.fillable(FillInterest.java:108)\n",
       "\tat org.eclipse.jetty.io.SelectChannelEndPoint$2.run(SelectChannelEndPoint.java:93)\n",
       "\tat org.eclipse.jetty.util.thread.strategy.ExecuteProduceConsume.executeProduceConsume(ExecuteProduceConsume.java:303)\n",
       "\tat org.eclipse.jetty.util.thread.strategy.ExecuteProduceConsume.produceConsume(ExecuteProduceConsume.java:148)\n",
       "\tat org.eclipse.jetty.util.thread.strategy.ExecuteProduceConsume.run(ExecuteProduceConsume.java:136)\n",
       "\tat com.databricks.rpc.InstrumentedQueuedThreadPool$$anon$1.$anonfun$run$1(InstrumentedQueuedThreadPool.scala:81)\n",
       "\tat scala.runtime.java8.JFunction0$mcV$sp.apply(JFunction0$mcV$sp.java:23)\n",
       "\tat com.databricks.instrumentation.QueuedThreadPoolInstrumenter.trackActiveThreads(QueuedThreadPoolInstrumenter.scala:66)\n",
       "\tat com.databricks.instrumentation.QueuedThreadPoolInstrumenter.trackActiveThreads$(QueuedThreadPoolInstrumenter.scala:63)\n",
       "\tat com.databricks.rpc.InstrumentedQueuedThreadPool.trackActiveThreads(InstrumentedQueuedThreadPool.scala:47)\n",
       "\tat com.databricks.rpc.InstrumentedQueuedThreadPool$$anon$1.run(InstrumentedQueuedThreadPool.scala:76)\n",
       "\tat org.eclipse.jetty.util.thread.QueuedThreadPool.runJob(QueuedThreadPool.java:671)\n",
       "\tat org.eclipse.jetty.util.thread.QueuedThreadPool$2.run(QueuedThreadPool.java:589)\n",
       "\t... 1 more\n"
      ]
     },
     "metadata": {
      "application/vnd.databricks.v1+output": {
       "arguments": {},
       "data": "\u001B[0;31m---------------------------------------------------------------------------\u001B[0m\n\u001B[0;31mExecutionError\u001B[0m                            Traceback (most recent call last)\nFile \u001B[0;32m<command-4171614014587375>, line 6\u001B[0m\n\u001B[1;32m      3\u001B[0m strKey\u001B[38;5;241m=\u001B[39m\u001B[38;5;124m\"\u001B[39m\u001B[38;5;124mfs.azure.account.key.sa05octshivam.blob.core.windows.net\u001B[39m\u001B[38;5;124m\"\u001B[39m\n\u001B[1;32m      4\u001B[0m strValue\u001B[38;5;241m=\u001B[39m\u001B[38;5;124m\"\u001B[39m\u001B[38;5;124mzNp5NWDcehwpS5bwhu8KtcJa995RNonyglvLW9MJHvmG088g6tMP0lkX7Ec1OAZU+91cLrn86joW+AStShqUdw==\u001B[39m\u001B[38;5;124m\"\u001B[39m\n\u001B[0;32m----> 6\u001B[0m result\u001B[38;5;241m=\u001B[39mdbutils\u001B[38;5;241m.\u001B[39mfs\u001B[38;5;241m.\u001B[39mmount(\n\u001B[1;32m      7\u001B[0m     source\u001B[38;5;241m=\u001B[39mstrSource,\n\u001B[1;32m      8\u001B[0m     mount_point\u001B[38;5;241m=\u001B[39mstrMountPoint,\n\u001B[1;32m      9\u001B[0m     extra_configs\u001B[38;5;241m=\u001B[39m{strKey:strValue}\n\u001B[1;32m     10\u001B[0m )\n\nFile \u001B[0;32m/databricks/python_shell/dbruntime/dbutils.py:362\u001B[0m, in \u001B[0;36mDBUtils.FSHandler.prettify_exception_message.<locals>.f_with_exception_handling\u001B[0;34m(*args, **kwargs)\u001B[0m\n\u001B[1;32m    360\u001B[0m exc\u001B[38;5;241m.\u001B[39m__context__ \u001B[38;5;241m=\u001B[39m \u001B[38;5;28;01mNone\u001B[39;00m\n\u001B[1;32m    361\u001B[0m exc\u001B[38;5;241m.\u001B[39m__cause__ \u001B[38;5;241m=\u001B[39m \u001B[38;5;28;01mNone\u001B[39;00m\n\u001B[0;32m--> 362\u001B[0m \u001B[38;5;28;01mraise\u001B[39;00m exc\n\n\u001B[0;31mExecutionError\u001B[0m: An error occurred while calling o474.mount.\n: java.rmi.RemoteException: java.lang.IllegalArgumentException: requirement failed: Directory already mounted: /mnt/mp2; nested exception is: \n\tjava.lang.IllegalArgumentException: requirement failed: Directory already mounted: /mnt/mp2\n\tat com.databricks.backend.daemon.data.client.DbfsClient.send0(DbfsClient.scala:135)\n\tat com.databricks.backend.daemon.data.client.DbfsClient.sendIdempotent(DbfsClient.scala:69)\n\tat com.databricks.backend.daemon.dbutils.DBUtilsCore.createOrUpdateMount(DBUtilsCore.scala:1057)\n\tat com.databricks.backend.daemon.dbutils.DBUtilsCore.$anonfun$mount$1(DBUtilsCore.scala:1083)\n\tat com.databricks.logging.UsageLogging.$anonfun$recordOperation$1(UsageLogging.scala:571)\n\tat com.databricks.logging.UsageLogging.executeThunkAndCaptureResultTags$1(UsageLogging.scala:666)\n\tat com.databricks.logging.UsageLogging.$anonfun$recordOperationWithResultTags$4(UsageLogging.scala:684)\n\tat com.databricks.logging.UsageLogging.$anonfun$withAttributionContext$1(UsageLogging.scala:426)\n\tat scala.util.DynamicVariable.withValue(DynamicVariable.scala:62)\n\tat com.databricks.logging.AttributionContext$.withValue(AttributionContext.scala:196)\n\tat com.databricks.logging.UsageLogging.withAttributionContext(UsageLogging.scala:424)\n\tat com.databricks.logging.UsageLogging.withAttributionContext$(UsageLogging.scala:418)\n\tat com.databricks.backend.daemon.dbutils.FSUtils.withAttributionContext(DBUtilsCore.scala:69)\n\tat com.databricks.logging.UsageLogging.withAttributionTags(UsageLogging.scala:470)\n\tat com.databricks.logging.UsageLogging.withAttributionTags$(UsageLogging.scala:455)\n\tat com.databricks.backend.daemon.dbutils.FSUtils.withAttributionTags(DBUtilsCore.scala:69)\n\tat com.databricks.logging.UsageLogging.recordOperationWithResultTags(UsageLogging.scala:661)\n\tat com.databricks.logging.UsageLogging.recordOperationWithResultTags$(UsageLogging.scala:580)\n\tat com.databricks.backend.daemon.dbutils.FSUtils.recordOperationWithResultTags(DBUtilsCore.scala:69)\n\tat com.databricks.logging.UsageLogging.recordOperation(UsageLogging.scala:571)\n\tat com.databricks.logging.UsageLogging.recordOperation$(UsageLogging.scala:540)\n\tat com.databricks.backend.daemon.dbutils.FSUtils.recordOperation(DBUtilsCore.scala:69)\n\tat com.databricks.backend.daemon.dbutils.FSUtils.recordDbutilsFsOp(DBUtilsCore.scala:133)\n\tat com.databricks.backend.daemon.dbutils.DBUtilsCore.mount(DBUtilsCore.scala:1077)\n\tat sun.reflect.NativeMethodAccessorImpl.invoke0(Native Method)\n\tat sun.reflect.NativeMethodAccessorImpl.invoke(NativeMethodAccessorImpl.java:62)\n\tat sun.reflect.DelegatingMethodAccessorImpl.invoke(DelegatingMethodAccessorImpl.java:43)\n\tat java.lang.reflect.Method.invoke(Method.java:498)\n\tat py4j.reflection.MethodInvoker.invoke(MethodInvoker.java:244)\n\tat py4j.reflection.ReflectionEngine.invoke(ReflectionEngine.java:397)\n\tat py4j.Gateway.invoke(Gateway.java:306)\n\tat py4j.commands.AbstractCommand.invokeMethod(AbstractCommand.java:132)\n\tat py4j.commands.CallCommand.execute(CallCommand.java:79)\n\tat py4j.ClientServerConnection.waitForCommands(ClientServerConnection.java:195)\n\tat py4j.ClientServerConnection.run(ClientServerConnection.java:115)\n\tat java.lang.Thread.run(Thread.java:750)\nCaused by: java.lang.IllegalArgumentException: requirement failed: Directory already mounted: /mnt/mp2\n\tat scala.Predef$.require(Predef.scala:281)\n\tat com.databricks.backend.daemon.data.server.DefaultMetadataManager.$anonfun$insertMount$1(MetadataManager.scala:580)\n\tat com.databricks.backend.daemon.data.server.DefaultMetadataManager.$anonfun$modifyAndVerify$2(MetadataManager.scala:948)\n\tat scala.runtime.java8.JFunction0$mcV$sp.apply(JFunction0$mcV$sp.java:23)\n\tat com.databricks.backend.daemon.data.server.DefaultMetadataManager.withRetries(MetadataManager.scala:729)\n\tat com.databricks.backend.daemon.data.server.DefaultMetadataManager.modifyAndVerify(MetadataManager.scala:937)\n\tat com.databricks.backend.daemon.data.server.DefaultMetadataManager.insertMount(MetadataManager.scala:588)\n\tat com.databricks.backend.daemon.data.server.handler.MountHandler.receive(MountHandler.scala:120)\n\tat com.databricks.backend.daemon.data.server.session.SessionContext.$anonfun$queryHandlers$1(SessionContext.scala:54)\n\tat com.databricks.backend.daemon.data.server.session.SessionContext.$anonfun$queryHandlers$1$adapted(SessionContext.scala:53)\n\tat scala.collection.immutable.List.foreach(List.scala:431)\n\tat com.databricks.backend.daemon.data.server.session.SessionContext.queryHandlers(SessionContext.scala:53)\n\tat com.databricks.backend.daemon.data.server.DbfsServerBackend$$anonfun$receive$4.$anonfun$applyOrElse$5(DbfsServerBackend.scala:388)\n\tat com.databricks.logging.UsageLogging.$anonfun$withAttributionContext$1(UsageLogging.scala:426)\n\tat scala.util.DynamicVariable.withValue(DynamicVariable.scala:62)\n\tat com.databricks.logging.AttributionContext$.withValue(AttributionContext.scala:216)\n\tat com.databricks.logging.UsageLogging.withAttributionContext(UsageLogging.scala:424)\n\tat com.databricks.logging.UsageLogging.withAttributionContext$(UsageLogging.scala:418)\n\tat com.databricks.rpc.ServerBackend.withAttributionContext(ServerBackend.scala:22)\n\tat com.databricks.logging.UsageLogging.withAttributionTags(UsageLogging.scala:472)\n\tat com.databricks.logging.UsageLogging.withAttributionTags$(UsageLogging.scala:455)\n\tat com.databricks.rpc.ServerBackend.withAttributionTags(ServerBackend.scala:22)\n\tat com.databricks.backend.daemon.data.server.DbfsServerBackend$$anonfun$receive$4.applyOrElse(DbfsServerBackend.scala:388)\n\tat com.databricks.backend.daemon.data.server.DbfsServerBackend$$anonfun$receive$4.applyOrElse(DbfsServerBackend.scala:332)\n\tat com.databricks.rpc.ServerBackend.$anonfun$internalReceive0$2(ServerBackend.scala:174)\n\tat com.databricks.rpc.ServerBackend$$anonfun$commonReceive$1.applyOrElse(ServerBackend.scala:200)\n\tat com.databricks.rpc.ServerBackend$$anonfun$commonReceive$1.applyOrElse(ServerBackend.scala:200)\n\tat com.databricks.rpc.ServerBackend.internalReceive0(ServerBackend.scala:171)\n\tat com.databricks.rpc.ServerBackend.$anonfun$internalReceive$1(ServerBackend.scala:147)\n\tat com.databricks.logging.UsageLogging.$anonfun$recordOperation$1(UsageLogging.scala:573)\n\tat com.databricks.logging.UsageLogging.executeThunkAndCaptureResultTags$1(UsageLogging.scala:668)\n\tat com.databricks.logging.UsageLogging.$anonfun$recordOperationWithResultTags$4(UsageLogging.scala:686)\n\tat com.databricks.logging.UsageLogging.$anonfun$withAttributionContext$1(UsageLogging.scala:426)\n\tat scala.util.DynamicVariable.withValue(DynamicVariable.scala:62)\n\tat com.databricks.logging.AttributionContext$.withValue(AttributionContext.scala:216)\n\tat com.databricks.logging.UsageLogging.withAttributionContext(UsageLogging.scala:424)\n\tat com.databricks.logging.UsageLogging.withAttributionContext$(UsageLogging.scala:418)\n\tat com.databricks.rpc.ServerBackend.withAttributionContext(ServerBackend.scala:22)\n\tat com.databricks.logging.UsageLogging.withAttributionTags(UsageLogging.scala:472)\n\tat com.databricks.logging.UsageLogging.withAttributionTags$(UsageLogging.scala:455)\n\tat com.databricks.rpc.ServerBackend.withAttributionTags(ServerBackend.scala:22)\n\tat com.databricks.logging.UsageLogging.recordOperationWithResultTags(UsageLogging.scala:663)\n\tat com.databricks.logging.UsageLogging.recordOperationWithResultTags$(UsageLogging.scala:582)\n\tat com.databricks.rpc.ServerBackend.recordOperationWithResultTags(ServerBackend.scala:22)\n\tat com.databricks.logging.UsageLogging.recordOperation(UsageLogging.scala:573)\n\tat com.databricks.logging.UsageLogging.recordOperation$(UsageLogging.scala:542)\n\tat com.databricks.rpc.ServerBackend.recordOperation(ServerBackend.scala:22)\n\tat com.databricks.rpc.ServerBackend.internalReceive(ServerBackend.scala:147)\n\tat com.databricks.rpc.JettyServer$RequestManager.handleRPC(JettyServer.scala:1020)\n\tat com.databricks.rpc.JettyServer$RequestManager.handleRequestAndRespond(JettyServer.scala:941)\n\tat com.databricks.rpc.JettyServer$RequestManager.$anonfun$handleHttp$6(JettyServer.scala:545)\n\tat com.databricks.rpc.JettyServer$RequestManager.$anonfun$handleHttp$6$adapted(JettyServer.scala:514)\n\tat com.databricks.logging.activity.ActivityContextFactory$.$anonfun$withActivityInternal$3(ActivityContextFactory.scala:398)\n\tat com.databricks.logging.UsageLogging.$anonfun$withAttributionContext$1(UsageLogging.scala:426)\n\tat scala.util.DynamicVariable.withValue(DynamicVariable.scala:62)\n\tat com.databricks.logging.AttributionContext$.withValue(AttributionContext.scala:216)\n\tat com.databricks.logging.UsageLogging.withAttributionContext(UsageLogging.scala:424)\n\tat com.databricks.logging.UsageLogging.withAttributionContext$(UsageLogging.scala:418)\n\tat com.databricks.logging.activity.ActivityContextFactory$.withAttributionContext(ActivityContextFactory.scala:53)\n\tat com.databricks.logging.activity.ActivityContextFactory$.withActivityInternal(ActivityContextFactory.scala:398)\n\tat com.databricks.logging.activity.ActivityContextFactory$.withServiceRequestActivity(ActivityContextFactory.scala:154)\n\tat com.databricks.rpc.JettyServer$RequestManager.handleHttp(JettyServer.scala:514)\n\tat com.databricks.rpc.JettyServer$RequestManager.doPost(JettyServer.scala:404)\n\tat javax.servlet.http.HttpServlet.service(HttpServlet.java:665)\n\tat com.databricks.rpc.HttpServletWithPatch.service(HttpServletWithPatch.scala:33)\n\tat javax.servlet.http.HttpServlet.service(HttpServlet.java:750)\n\tat org.eclipse.jetty.servlet.ServletHolder.handle(ServletHolder.java:848)\n\tat org.eclipse.jetty.servlet.ServletHandler.doHandle(ServletHandler.java:585)\n\tat org.eclipse.jetty.servlet.ServletHandler.doScope(ServletHandler.java:515)\n\tat org.eclipse.jetty.server.handler.ScopedHandler.handle(ScopedHandler.java:141)\n\tat org.eclipse.jetty.server.handler.HandlerWrapper.handle(HandlerWrapper.java:134)\n\tat org.eclipse.jetty.server.Server.handle(Server.java:539)\n\tat org.eclipse.jetty.server.HttpChannel.handle(HttpChannel.java:333)\n\tat org.eclipse.jetty.server.HttpConnection.onFillable(HttpConnection.java:251)\n\tat org.eclipse.jetty.io.AbstractConnection$ReadCallback.succeeded(AbstractConnection.java:283)\n\tat org.eclipse.jetty.io.FillInterest.fillable(FillInterest.java:108)\n\tat org.eclipse.jetty.io.SelectChannelEndPoint$2.run(SelectChannelEndPoint.java:93)\n\tat org.eclipse.jetty.util.thread.strategy.ExecuteProduceConsume.executeProduceConsume(ExecuteProduceConsume.java:303)\n\tat org.eclipse.jetty.util.thread.strategy.ExecuteProduceConsume.produceConsume(ExecuteProduceConsume.java:148)\n\tat org.eclipse.jetty.util.thread.strategy.ExecuteProduceConsume.run(ExecuteProduceConsume.java:136)\n\tat com.databricks.rpc.InstrumentedQueuedThreadPool$$anon$1.$anonfun$run$1(InstrumentedQueuedThreadPool.scala:81)\n\tat scala.runtime.java8.JFunction0$mcV$sp.apply(JFunction0$mcV$sp.java:23)\n\tat com.databricks.instrumentation.QueuedThreadPoolInstrumenter.trackActiveThreads(QueuedThreadPoolInstrumenter.scala:66)\n\tat com.databricks.instrumentation.QueuedThreadPoolInstrumenter.trackActiveThreads$(QueuedThreadPoolInstrumenter.scala:63)\n\tat com.databricks.rpc.InstrumentedQueuedThreadPool.trackActiveThreads(InstrumentedQueuedThreadPool.scala:47)\n\tat com.databricks.rpc.InstrumentedQueuedThreadPool$$anon$1.run(InstrumentedQueuedThreadPool.scala:76)\n\tat org.eclipse.jetty.util.thread.QueuedThreadPool.runJob(QueuedThreadPool.java:671)\n\tat org.eclipse.jetty.util.thread.QueuedThreadPool$2.run(QueuedThreadPool.java:589)\n\t... 1 more\n",
       "errorSummary": "java.rmi.RemoteException: java.lang.IllegalArgumentException: requirement failed: Directory already mounted: /mnt/mp2; nested exception is: ",
       "errorTraceType": "ansi",
       "metadata": {},
       "type": "ipynbError"
      }
     },
     "output_type": "display_data"
    }
   ],
   "source": [
    "strSource=\"wasbs://input@sa05octshivam.blob.core.windows.net/\"\n",
    "strMountPoint=\"/mnt/mp2\"\n",
    "strKey=\"fs.azure.account.key.sa05octshivam.blob.core.windows.net\"\n",
    "strValue=\"zNp5NWDcehwpS5bwhu8KtcJa995RNonyglvLW9MJHvmG088g6tMP0lkX7Ec1OAZU+91cLrn86joW+AStShqUdw==\"\n",
    "\n",
    "result=dbutils.fs.mount(\n",
    "    source=strSource,\n",
    "    mount_point=strMountPoint,\n",
    "    extra_configs={strKey:strValue}\n",
    ")"
   ]
  },
  {
   "cell_type": "code",
   "execution_count": 0,
   "metadata": {
    "application/vnd.databricks.v1+cell": {
     "cellMetadata": {
      "byteLimit": 2048000,
      "rowLimit": 10000
     },
     "inputWidgets": {},
     "nuid": "1ca00374-fe5d-405e-82cc-627db5b2a616",
     "showTitle": false,
     "title": ""
    }
   },
   "outputs": [
    {
     "output_type": "display_data",
     "data": {
      "text/html": [
       "<style scoped>\n",
       "  .table-result-container {\n",
       "    max-height: 300px;\n",
       "    overflow: auto;\n",
       "  }\n",
       "  table, th, td {\n",
       "    border: 1px solid black;\n",
       "    border-collapse: collapse;\n",
       "  }\n",
       "  th, td {\n",
       "    padding: 5px;\n",
       "  }\n",
       "  th {\n",
       "    text-align: left;\n",
       "  }\n",
       "</style><div class='table-result-container'><table class='table-result'><thead style='background-color: white'><tr><th>path</th><th>name</th><th>size</th><th>modificationTime</th></tr></thead><tbody><tr><td>dbfs:/Volume/</td><td>Volume/</td><td>0</td><td>0</td></tr><tr><td>dbfs:/Volumes/</td><td>Volumes/</td><td>0</td><td>0</td></tr><tr><td>dbfs:/databricks-datasets/</td><td>databricks-datasets/</td><td>0</td><td>0</td></tr><tr><td>dbfs:/databricks-results/</td><td>databricks-results/</td><td>0</td><td>0</td></tr><tr><td>dbfs:/mnt/</td><td>mnt/</td><td>0</td><td>1696477723000</td></tr><tr><td>dbfs:/volume/</td><td>volume/</td><td>0</td><td>0</td></tr><tr><td>dbfs:/volumes/</td><td>volumes/</td><td>0</td><td>0</td></tr></tbody></table></div>"
      ]
     },
     "metadata": {
      "application/vnd.databricks.v1+output": {
       "addedWidgets": {},
       "aggData": [],
       "aggError": "",
       "aggOverflow": false,
       "aggSchema": [],
       "aggSeriesLimitReached": false,
       "aggType": "",
       "arguments": {},
       "columnCustomDisplayInfos": {},
       "data": [
        [
         "dbfs:/Volume/",
         "Volume/",
         0,
         0
        ],
        [
         "dbfs:/Volumes/",
         "Volumes/",
         0,
         0
        ],
        [
         "dbfs:/databricks-datasets/",
         "databricks-datasets/",
         0,
         0
        ],
        [
         "dbfs:/databricks-results/",
         "databricks-results/",
         0,
         0
        ],
        [
         "dbfs:/mnt/",
         "mnt/",
         0,
         1696477723000
        ],
        [
         "dbfs:/volume/",
         "volume/",
         0,
         0
        ],
        [
         "dbfs:/volumes/",
         "volumes/",
         0,
         0
        ]
       ],
       "datasetInfos": [],
       "dbfsResultPath": null,
       "isJsonSchema": true,
       "metadata": {
        "isDbfsCommandResult": false
       },
       "overflow": false,
       "plotOptions": {
        "customPlotOptions": {},
        "displayType": "table",
        "pivotAggregation": null,
        "pivotColumns": null,
        "xColumns": null,
        "yColumns": null
       },
       "removedWidgets": [],
       "schema": [
        {
         "metadata": "{}",
         "name": "path",
         "type": "\"string\""
        },
        {
         "metadata": "{}",
         "name": "name",
         "type": "\"string\""
        },
        {
         "metadata": "{}",
         "name": "size",
         "type": "\"long\""
        },
        {
         "metadata": "{}",
         "name": "modificationTime",
         "type": "\"long\""
        }
       ],
       "type": "table"
      }
     },
     "output_type": "display_data"
    }
   ],
   "source": [
    "%fs ls"
   ]
  },
  {
   "cell_type": "code",
   "execution_count": 0,
   "metadata": {
    "application/vnd.databricks.v1+cell": {
     "cellMetadata": {
      "byteLimit": 2048000,
      "rowLimit": 10000
     },
     "inputWidgets": {},
     "nuid": "6a12a1f2-2e72-4628-b71e-ecc082c5d06f",
     "showTitle": false,
     "title": ""
    }
   },
   "outputs": [
    {
     "output_type": "display_data",
     "data": {
      "text/html": [
       "<style scoped>\n",
       "  .table-result-container {\n",
       "    max-height: 300px;\n",
       "    overflow: auto;\n",
       "  }\n",
       "  table, th, td {\n",
       "    border: 1px solid black;\n",
       "    border-collapse: collapse;\n",
       "  }\n",
       "  th, td {\n",
       "    padding: 5px;\n",
       "  }\n",
       "  th {\n",
       "    text-align: left;\n",
       "  }\n",
       "</style><div class='table-result-container'><table class='table-result'><thead style='background-color: white'><tr><th>path</th><th>name</th><th>size</th><th>modificationTime</th></tr></thead><tbody><tr><td>dbfs:/mnt/mp2/</td><td>mp2/</td><td>0</td><td>0</td></tr></tbody></table></div>"
      ]
     },
     "metadata": {
      "application/vnd.databricks.v1+output": {
       "addedWidgets": {},
       "aggData": [],
       "aggError": "",
       "aggOverflow": false,
       "aggSchema": [],
       "aggSeriesLimitReached": false,
       "aggType": "",
       "arguments": {},
       "columnCustomDisplayInfos": {},
       "data": [
        [
         "dbfs:/mnt/mp2/",
         "mp2/",
         0,
         0
        ]
       ],
       "datasetInfos": [],
       "dbfsResultPath": null,
       "isJsonSchema": true,
       "metadata": {
        "isDbfsCommandResult": false
       },
       "overflow": false,
       "plotOptions": {
        "customPlotOptions": {},
        "displayType": "table",
        "pivotAggregation": null,
        "pivotColumns": null,
        "xColumns": null,
        "yColumns": null
       },
       "removedWidgets": [],
       "schema": [
        {
         "metadata": "{}",
         "name": "path",
         "type": "\"string\""
        },
        {
         "metadata": "{}",
         "name": "name",
         "type": "\"string\""
        },
        {
         "metadata": "{}",
         "name": "size",
         "type": "\"long\""
        },
        {
         "metadata": "{}",
         "name": "modificationTime",
         "type": "\"long\""
        }
       ],
       "type": "table"
      }
     },
     "output_type": "display_data"
    }
   ],
   "source": [
    "%fs ls dbfs:/mnt/"
   ]
  },
  {
   "cell_type": "code",
   "execution_count": 0,
   "metadata": {
    "application/vnd.databricks.v1+cell": {
     "cellMetadata": {
      "byteLimit": 2048000,
      "rowLimit": 10000
     },
     "inputWidgets": {},
     "nuid": "19b78b30-4421-4c3b-b7cf-e747058482b0",
     "showTitle": false,
     "title": ""
    }
   },
   "outputs": [
    {
     "output_type": "display_data",
     "data": {
      "text/html": [
       "<style scoped>\n",
       "  .table-result-container {\n",
       "    max-height: 300px;\n",
       "    overflow: auto;\n",
       "  }\n",
       "  table, th, td {\n",
       "    border: 1px solid black;\n",
       "    border-collapse: collapse;\n",
       "  }\n",
       "  th, td {\n",
       "    padding: 5px;\n",
       "  }\n",
       "  th {\n",
       "    text-align: left;\n",
       "  }\n",
       "</style><div class='table-result-container'><table class='table-result'><thead style='background-color: white'><tr><th>path</th><th>name</th><th>size</th><th>modificationTime</th></tr></thead><tbody><tr><td>dbfs:/mnt/mp2/Features data set.csv</td><td>Features data set.csv</td><td>600478</td><td>1696476990000</td></tr><tr><td>dbfs:/mnt/mp2/sales data-set.csv</td><td>sales data-set.csv</td><td>13264115</td><td>1696476992000</td></tr><tr><td>dbfs:/mnt/mp2/stores data-set.csv</td><td>stores data-set.csv</td><td>577</td><td>1696476989000</td></tr></tbody></table></div>"
      ]
     },
     "metadata": {
      "application/vnd.databricks.v1+output": {
       "addedWidgets": {},
       "aggData": [],
       "aggError": "",
       "aggOverflow": false,
       "aggSchema": [],
       "aggSeriesLimitReached": false,
       "aggType": "",
       "arguments": {},
       "columnCustomDisplayInfos": {},
       "data": [
        [
         "dbfs:/mnt/mp2/Features data set.csv",
         "Features data set.csv",
         600478,
         1696476990000
        ],
        [
         "dbfs:/mnt/mp2/sales data-set.csv",
         "sales data-set.csv",
         13264115,
         1696476992000
        ],
        [
         "dbfs:/mnt/mp2/stores data-set.csv",
         "stores data-set.csv",
         577,
         1696476989000
        ]
       ],
       "datasetInfos": [],
       "dbfsResultPath": null,
       "isJsonSchema": true,
       "metadata": {
        "isDbfsCommandResult": false
       },
       "overflow": false,
       "plotOptions": {
        "customPlotOptions": {},
        "displayType": "table",
        "pivotAggregation": null,
        "pivotColumns": null,
        "xColumns": null,
        "yColumns": null
       },
       "removedWidgets": [],
       "schema": [
        {
         "metadata": "{}",
         "name": "path",
         "type": "\"string\""
        },
        {
         "metadata": "{}",
         "name": "name",
         "type": "\"string\""
        },
        {
         "metadata": "{}",
         "name": "size",
         "type": "\"long\""
        },
        {
         "metadata": "{}",
         "name": "modificationTime",
         "type": "\"long\""
        }
       ],
       "type": "table"
      }
     },
     "output_type": "display_data"
    }
   ],
   "source": [
    "%fs ls /mnt/mp2"
   ]
  },
  {
   "cell_type": "code",
   "execution_count": 0,
   "metadata": {
    "application/vnd.databricks.v1+cell": {
     "cellMetadata": {
      "byteLimit": 2048000,
      "rowLimit": 10000
     },
     "inputWidgets": {},
     "nuid": "15ea3eb9-1c42-4082-97c3-60680431b78f",
     "showTitle": false,
     "title": ""
    }
   },
   "outputs": [],
   "source": [
    "df1=spark.read.csv(\"dbfs:/mnt/mp2/stores data-set.csv\",header=True,inferSchema=True)\n",
    "df2=spark.read.csv(\"dbfs:/mnt/mp2/sales data-set.csv\",header=True,inferSchema=True)\n",
    "df3=spark.read.csv(\"dbfs:/mnt/mp2/Features data set.csv\",header=True,inferSchema=True)"
   ]
  },
  {
   "cell_type": "code",
   "execution_count": 0,
   "metadata": {
    "application/vnd.databricks.v1+cell": {
     "cellMetadata": {
      "byteLimit": 2048000,
      "rowLimit": 10000
     },
     "inputWidgets": {},
     "nuid": "bca78a95-0fb6-4fd6-9199-7a75eac7260c",
     "showTitle": false,
     "title": ""
    }
   },
   "outputs": [
    {
     "output_type": "stream",
     "name": "stdout",
     "output_type": "stream",
     "text": [
      "+-----+----+------+\n|Store|Type|  Size|\n+-----+----+------+\n|    1|   A|151315|\n|    2|   A|202307|\n|    3|   B| 37392|\n|    4|   A|205863|\n|    5|   B| 34875|\n|    6|   A|202505|\n|    7|   B| 70713|\n|    8|   A|155078|\n|    9|   B|125833|\n|   10|   B|126512|\n|   11|   A|207499|\n|   12|   B|112238|\n|   13|   A|219622|\n|   14|   A|200898|\n|   15|   B|123737|\n|   16|   B| 57197|\n|   17|   B| 93188|\n|   18|   B|120653|\n|   19|   A|203819|\n|   20|   A|203742|\n+-----+----+------+\nonly showing top 20 rows\n\n"
     ]
    }
   ],
   "source": [
    "df1.show()"
   ]
  },
  {
   "cell_type": "code",
   "execution_count": 0,
   "metadata": {
    "application/vnd.databricks.v1+cell": {
     "cellMetadata": {
      "byteLimit": 2048000,
      "rowLimit": 10000
     },
     "inputWidgets": {},
     "nuid": "1820238b-9c8b-40a3-9ce5-1b45fd92f067",
     "showTitle": false,
     "title": ""
    }
   },
   "outputs": [
    {
     "output_type": "stream",
     "name": "stdout",
     "output_type": "stream",
     "text": [
      "+-----+----+----------+------------+---------+\n|Store|Dept|      Date|Weekly_Sales|IsHoliday|\n+-----+----+----------+------------+---------+\n|    1|   1|2010-02-05|     24924.5|    false|\n|    1|   1|2010-02-12|    46039.49|     true|\n|    1|   1|2010-02-19|    41595.55|    false|\n|    1|   1|2010-02-26|    19403.54|    false|\n|    1|   1|2010-03-05|     21827.9|    false|\n|    1|   1|2010-03-12|    21043.39|    false|\n|    1|   1|2010-03-19|    22136.64|    false|\n|    1|   1|2010-03-26|    26229.21|    false|\n|    1|   1|2010-04-02|    57258.43|    false|\n|    1|   1|2010-04-09|    42960.91|    false|\n|    1|   1|2010-04-16|    17596.96|    false|\n|    1|   1|2010-04-23|    16145.35|    false|\n|    1|   1|2010-04-30|    16555.11|    false|\n|    1|   1|2010-05-07|    17413.94|    false|\n|    1|   1|2010-05-14|    18926.74|    false|\n|    1|   1|2010-05-21|    14773.04|    false|\n|    1|   1|2010-05-28|    15580.43|    false|\n|    1|   1|2010-06-04|    17558.09|    false|\n|    1|   1|2010-06-11|    16637.62|    false|\n|    1|   1|2010-06-18|    16216.27|    false|\n+-----+----+----------+------------+---------+\nonly showing top 20 rows\n\n"
     ]
    }
   ],
   "source": [
    "df2.show()"
   ]
  },
  {
   "cell_type": "code",
   "execution_count": 0,
   "metadata": {
    "application/vnd.databricks.v1+cell": {
     "cellMetadata": {
      "byteLimit": 2048000,
      "rowLimit": 10000
     },
     "inputWidgets": {},
     "nuid": "dfbfc797-4f38-4bd8-9682-ea040d595032",
     "showTitle": false,
     "title": ""
    }
   },
   "outputs": [
    {
     "output_type": "stream",
     "name": "stdout",
     "output_type": "stream",
     "text": [
      "+-----+----------+-----------+----------+---------+---------+---------+---------+---------+-----------+------------+---------+\n|Store|      Date|Temperature|Fuel_Price|MarkDown1|MarkDown2|MarkDown3|MarkDown4|MarkDown5|        CPI|Unemployment|IsHoliday|\n+-----+----------+-----------+----------+---------+---------+---------+---------+---------+-----------+------------+---------+\n|    1|2010-02-05|      42.31|     2.572|       NA|       NA|       NA|       NA|       NA|211.0963582|       8.106|    false|\n|    1|2010-02-12|      38.51|     2.548|       NA|       NA|       NA|       NA|       NA|211.2421698|       8.106|     true|\n|    1|2010-02-19|      39.93|     2.514|       NA|       NA|       NA|       NA|       NA|211.2891429|       8.106|    false|\n|    1|2010-02-26|      46.63|     2.561|       NA|       NA|       NA|       NA|       NA|211.3196429|       8.106|    false|\n|    1|2010-03-05|       46.5|     2.625|       NA|       NA|       NA|       NA|       NA|211.3501429|       8.106|    false|\n|    1|2010-03-12|      57.79|     2.667|       NA|       NA|       NA|       NA|       NA|211.3806429|       8.106|    false|\n|    1|2010-03-19|      54.58|      2.72|       NA|       NA|       NA|       NA|       NA| 211.215635|       8.106|    false|\n|    1|2010-03-26|      51.45|     2.732|       NA|       NA|       NA|       NA|       NA|211.0180424|       8.106|    false|\n|    1|2010-04-02|      62.27|     2.719|       NA|       NA|       NA|       NA|       NA|210.8204499|       7.808|    false|\n|    1|2010-04-09|      65.86|      2.77|       NA|       NA|       NA|       NA|       NA|210.6228574|       7.808|    false|\n|    1|2010-04-16|      66.32|     2.808|       NA|       NA|       NA|       NA|       NA|   210.4887|       7.808|    false|\n|    1|2010-04-23|      64.84|     2.795|       NA|       NA|       NA|       NA|       NA|210.4391228|       7.808|    false|\n|    1|2010-04-30|      67.41|      2.78|       NA|       NA|       NA|       NA|       NA|210.3895456|       7.808|    false|\n|    1|2010-05-07|      72.55|     2.835|       NA|       NA|       NA|       NA|       NA|210.3399684|       7.808|    false|\n|    1|2010-05-14|      74.78|     2.854|       NA|       NA|       NA|       NA|       NA|210.3374261|       7.808|    false|\n|    1|2010-05-21|      76.44|     2.826|       NA|       NA|       NA|       NA|       NA|210.6170934|       7.808|    false|\n|    1|2010-05-28|      80.44|     2.759|       NA|       NA|       NA|       NA|       NA|210.8967606|       7.808|    false|\n|    1|2010-06-04|      80.69|     2.705|       NA|       NA|       NA|       NA|       NA|211.1764278|       7.808|    false|\n|    1|2010-06-11|      80.43|     2.668|       NA|       NA|       NA|       NA|       NA|211.4560951|       7.808|    false|\n|    1|2010-06-18|      84.11|     2.637|       NA|       NA|       NA|       NA|       NA|211.4537719|       7.808|    false|\n+-----+----------+-----------+----------+---------+---------+---------+---------+---------+-----------+------------+---------+\nonly showing top 20 rows\n\n"
     ]
    }
   ],
   "source": [
    "df3.show()"
   ]
  },
  {
   "cell_type": "code",
   "execution_count": 0,
   "metadata": {
    "application/vnd.databricks.v1+cell": {
     "cellMetadata": {
      "byteLimit": 2048000,
      "rowLimit": 10000
     },
     "inputWidgets": {},
     "nuid": "6bcb6cb5-8fea-4a77-86f8-9727feded1ca",
     "showTitle": false,
     "title": ""
    }
   },
   "outputs": [],
   "source": [
    "df_features_sales = df3.join(df2, on=['Store','Date','IsHoliday'], how='inner')"
   ]
  },
  {
   "cell_type": "code",
   "execution_count": 0,
   "metadata": {
    "application/vnd.databricks.v1+cell": {
     "cellMetadata": {
      "byteLimit": 2048000,
      "rowLimit": 10000
     },
     "inputWidgets": {},
     "nuid": "a734a587-f7f2-4dd6-8d11-92e608925616",
     "showTitle": false,
     "title": ""
    }
   },
   "outputs": [
    {
     "output_type": "stream",
     "name": "stdout",
     "output_type": "stream",
     "text": [
      "+-----+----------+---------+-----------+----------+---------+---------+---------+---------+---------+-----------+------------+----+------------+\n|Store|      Date|IsHoliday|Temperature|Fuel_Price|MarkDown1|MarkDown2|MarkDown3|MarkDown4|MarkDown5|        CPI|Unemployment|Dept|Weekly_Sales|\n+-----+----------+---------+-----------+----------+---------+---------+---------+---------+---------+-----------+------------+----+------------+\n|    1|2010-02-05|    false|      42.31|     2.572|       NA|       NA|       NA|       NA|       NA|211.0963582|       8.106|   1|     24924.5|\n|    1|2010-02-12|     true|      38.51|     2.548|       NA|       NA|       NA|       NA|       NA|211.2421698|       8.106|   1|    46039.49|\n|    1|2010-02-19|    false|      39.93|     2.514|       NA|       NA|       NA|       NA|       NA|211.2891429|       8.106|   1|    41595.55|\n|    1|2010-02-26|    false|      46.63|     2.561|       NA|       NA|       NA|       NA|       NA|211.3196429|       8.106|   1|    19403.54|\n|    1|2010-03-05|    false|       46.5|     2.625|       NA|       NA|       NA|       NA|       NA|211.3501429|       8.106|   1|     21827.9|\n|    1|2010-03-12|    false|      57.79|     2.667|       NA|       NA|       NA|       NA|       NA|211.3806429|       8.106|   1|    21043.39|\n|    1|2010-03-19|    false|      54.58|      2.72|       NA|       NA|       NA|       NA|       NA| 211.215635|       8.106|   1|    22136.64|\n|    1|2010-03-26|    false|      51.45|     2.732|       NA|       NA|       NA|       NA|       NA|211.0180424|       8.106|   1|    26229.21|\n|    1|2010-04-02|    false|      62.27|     2.719|       NA|       NA|       NA|       NA|       NA|210.8204499|       7.808|   1|    57258.43|\n|    1|2010-04-09|    false|      65.86|      2.77|       NA|       NA|       NA|       NA|       NA|210.6228574|       7.808|   1|    42960.91|\n|    1|2010-04-16|    false|      66.32|     2.808|       NA|       NA|       NA|       NA|       NA|   210.4887|       7.808|   1|    17596.96|\n|    1|2010-04-23|    false|      64.84|     2.795|       NA|       NA|       NA|       NA|       NA|210.4391228|       7.808|   1|    16145.35|\n|    1|2010-04-30|    false|      67.41|      2.78|       NA|       NA|       NA|       NA|       NA|210.3895456|       7.808|   1|    16555.11|\n|    1|2010-05-07|    false|      72.55|     2.835|       NA|       NA|       NA|       NA|       NA|210.3399684|       7.808|   1|    17413.94|\n|    1|2010-05-14|    false|      74.78|     2.854|       NA|       NA|       NA|       NA|       NA|210.3374261|       7.808|   1|    18926.74|\n|    1|2010-05-21|    false|      76.44|     2.826|       NA|       NA|       NA|       NA|       NA|210.6170934|       7.808|   1|    14773.04|\n|    1|2010-05-28|    false|      80.44|     2.759|       NA|       NA|       NA|       NA|       NA|210.8967606|       7.808|   1|    15580.43|\n|    1|2010-06-04|    false|      80.69|     2.705|       NA|       NA|       NA|       NA|       NA|211.1764278|       7.808|   1|    17558.09|\n|    1|2010-06-11|    false|      80.43|     2.668|       NA|       NA|       NA|       NA|       NA|211.4560951|       7.808|   1|    16637.62|\n|    1|2010-06-18|    false|      84.11|     2.637|       NA|       NA|       NA|       NA|       NA|211.4537719|       7.808|   1|    16216.27|\n+-----+----------+---------+-----------+----------+---------+---------+---------+---------+---------+-----------+------------+----+------------+\nonly showing top 20 rows\n\n"
     ]
    }
   ],
   "source": [
    "df_features_sales.show()"
   ]
  },
  {
   "cell_type": "code",
   "execution_count": 0,
   "metadata": {
    "application/vnd.databricks.v1+cell": {
     "cellMetadata": {
      "byteLimit": 2048000,
      "rowLimit": 10000
     },
     "inputWidgets": {},
     "nuid": "f9d963d5-2aed-4028-beb1-36594458a4d5",
     "showTitle": false,
     "title": ""
    }
   },
   "outputs": [],
   "source": [
    "df_all=df_features_sales.join(df1, on='Store', how='inner')"
   ]
  },
  {
   "cell_type": "code",
   "execution_count": 0,
   "metadata": {
    "application/vnd.databricks.v1+cell": {
     "cellMetadata": {
      "byteLimit": 2048000,
      "rowLimit": 10000
     },
     "inputWidgets": {},
     "nuid": "f3df33a3-4676-4286-b2ce-1e056edf0636",
     "showTitle": false,
     "title": ""
    }
   },
   "outputs": [
    {
     "output_type": "stream",
     "name": "stdout",
     "output_type": "stream",
     "text": [
      "+-----+----------+---------+-----------+----------+---------+---------+---------+---------+---------+-----------+------------+----+------------+----+------+\n|Store|      Date|IsHoliday|Temperature|Fuel_Price|MarkDown1|MarkDown2|MarkDown3|MarkDown4|MarkDown5|        CPI|Unemployment|Dept|Weekly_Sales|Type|  Size|\n+-----+----------+---------+-----------+----------+---------+---------+---------+---------+---------+-----------+------------+----+------------+----+------+\n|    1|2010-02-05|    false|      42.31|     2.572|       NA|       NA|       NA|       NA|       NA|211.0963582|       8.106|   1|     24924.5|   A|151315|\n|    1|2010-02-12|     true|      38.51|     2.548|       NA|       NA|       NA|       NA|       NA|211.2421698|       8.106|   1|    46039.49|   A|151315|\n|    1|2010-02-19|    false|      39.93|     2.514|       NA|       NA|       NA|       NA|       NA|211.2891429|       8.106|   1|    41595.55|   A|151315|\n|    1|2010-02-26|    false|      46.63|     2.561|       NA|       NA|       NA|       NA|       NA|211.3196429|       8.106|   1|    19403.54|   A|151315|\n|    1|2010-03-05|    false|       46.5|     2.625|       NA|       NA|       NA|       NA|       NA|211.3501429|       8.106|   1|     21827.9|   A|151315|\n|    1|2010-03-12|    false|      57.79|     2.667|       NA|       NA|       NA|       NA|       NA|211.3806429|       8.106|   1|    21043.39|   A|151315|\n|    1|2010-03-19|    false|      54.58|      2.72|       NA|       NA|       NA|       NA|       NA| 211.215635|       8.106|   1|    22136.64|   A|151315|\n|    1|2010-03-26|    false|      51.45|     2.732|       NA|       NA|       NA|       NA|       NA|211.0180424|       8.106|   1|    26229.21|   A|151315|\n|    1|2010-04-02|    false|      62.27|     2.719|       NA|       NA|       NA|       NA|       NA|210.8204499|       7.808|   1|    57258.43|   A|151315|\n|    1|2010-04-09|    false|      65.86|      2.77|       NA|       NA|       NA|       NA|       NA|210.6228574|       7.808|   1|    42960.91|   A|151315|\n|    1|2010-04-16|    false|      66.32|     2.808|       NA|       NA|       NA|       NA|       NA|   210.4887|       7.808|   1|    17596.96|   A|151315|\n|    1|2010-04-23|    false|      64.84|     2.795|       NA|       NA|       NA|       NA|       NA|210.4391228|       7.808|   1|    16145.35|   A|151315|\n|    1|2010-04-30|    false|      67.41|      2.78|       NA|       NA|       NA|       NA|       NA|210.3895456|       7.808|   1|    16555.11|   A|151315|\n|    1|2010-05-07|    false|      72.55|     2.835|       NA|       NA|       NA|       NA|       NA|210.3399684|       7.808|   1|    17413.94|   A|151315|\n|    1|2010-05-14|    false|      74.78|     2.854|       NA|       NA|       NA|       NA|       NA|210.3374261|       7.808|   1|    18926.74|   A|151315|\n|    1|2010-05-21|    false|      76.44|     2.826|       NA|       NA|       NA|       NA|       NA|210.6170934|       7.808|   1|    14773.04|   A|151315|\n|    1|2010-05-28|    false|      80.44|     2.759|       NA|       NA|       NA|       NA|       NA|210.8967606|       7.808|   1|    15580.43|   A|151315|\n|    1|2010-06-04|    false|      80.69|     2.705|       NA|       NA|       NA|       NA|       NA|211.1764278|       7.808|   1|    17558.09|   A|151315|\n|    1|2010-06-11|    false|      80.43|     2.668|       NA|       NA|       NA|       NA|       NA|211.4560951|       7.808|   1|    16637.62|   A|151315|\n|    1|2010-06-18|    false|      84.11|     2.637|       NA|       NA|       NA|       NA|       NA|211.4537719|       7.808|   1|    16216.27|   A|151315|\n+-----+----------+---------+-----------+----------+---------+---------+---------+---------+---------+-----------+------------+----+------------+----+------+\nonly showing top 20 rows\n\n"
     ]
    }
   ],
   "source": [
    "df_all.show()"
   ]
  },
  {
   "cell_type": "code",
   "execution_count": 0,
   "metadata": {
    "application/vnd.databricks.v1+cell": {
     "cellMetadata": {
      "byteLimit": 2048000,
      "rowLimit": 10000
     },
     "inputWidgets": {},
     "nuid": "93040591-2310-4a53-8cc4-3909dd74d3b2",
     "showTitle": false,
     "title": ""
    }
   },
   "outputs": [],
   "source": [
    "l1=[\"MarkDown1\",\"MarkDown2\",\"MarkDown3\",\"MarkDown4\",\"MarkDown5\",\"Unemployment\",\"CPI\"]\n",
    "for i in l1:\n",
    "    df_all = df_all.withColumn(i, col(i).cast(\"float\"))"
   ]
  },
  {
   "cell_type": "code",
   "execution_count": 0,
   "metadata": {
    "application/vnd.databricks.v1+cell": {
     "cellMetadata": {
      "byteLimit": 2048000,
      "rowLimit": 10000
     },
     "inputWidgets": {},
     "nuid": "3bedb696-ce87-4a7e-8827-184e5a29be6c",
     "showTitle": false,
     "title": ""
    }
   },
   "outputs": [
    {
     "output_type": "execute_result",
     "data": {
      "text/plain": [
       "[('Store', 'int'),\n",
       " ('Date', 'date'),\n",
       " ('IsHoliday', 'boolean'),\n",
       " ('Temperature', 'double'),\n",
       " ('Fuel_Price', 'double'),\n",
       " ('MarkDown1', 'float'),\n",
       " ('MarkDown2', 'float'),\n",
       " ('MarkDown3', 'float'),\n",
       " ('MarkDown4', 'float'),\n",
       " ('MarkDown5', 'float'),\n",
       " ('CPI', 'float'),\n",
       " ('Unemployment', 'float'),\n",
       " ('Dept', 'int'),\n",
       " ('Weekly_Sales', 'double'),\n",
       " ('Type', 'string'),\n",
       " ('Size', 'int')]"
      ]
     },
     "execution_count": 119,
     "metadata": {},
     "output_type": "execute_result"
    }
   ],
   "source": [
    "df_all.dtypes"
   ]
  },
  {
   "cell_type": "code",
   "execution_count": 0,
   "metadata": {
    "application/vnd.databricks.v1+cell": {
     "cellMetadata": {
      "byteLimit": 2048000,
      "rowLimit": 10000
     },
     "inputWidgets": {},
     "nuid": "9f22e147-7038-423f-a2da-8f31a8c02f75",
     "showTitle": false,
     "title": ""
    }
   },
   "outputs": [],
   "source": [
    "df_duplicates=df_all.groupBy(df_all.columns).count().filter(col(\"count\")>1)"
   ]
  },
  {
   "cell_type": "code",
   "execution_count": 0,
   "metadata": {
    "application/vnd.databricks.v1+cell": {
     "cellMetadata": {
      "byteLimit": 2048000,
      "rowLimit": 10000
     },
     "inputWidgets": {},
     "nuid": "12ef9bf7-b056-4408-9092-4ff70931fd91",
     "showTitle": false,
     "title": ""
    }
   },
   "outputs": [
    {
     "output_type": "stream",
     "name": "stdout",
     "output_type": "stream",
     "text": [
      "+-----+----+---------+-----------+----------+---------+---------+---------+---------+---------+---+------------+----+------------+----+----+-----+\n|Store|Date|IsHoliday|Temperature|Fuel_Price|MarkDown1|MarkDown2|MarkDown3|MarkDown4|MarkDown5|CPI|Unemployment|Dept|Weekly_Sales|Type|Size|count|\n+-----+----+---------+-----------+----------+---------+---------+---------+---------+---------+---+------------+----+------------+----+----+-----+\n+-----+----+---------+-----------+----------+---------+---------+---------+---------+---------+---+------------+----+------------+----+----+-----+\n\n"
     ]
    }
   ],
   "source": [
    "df_duplicates.show()"
   ]
  },
  {
   "cell_type": "code",
   "execution_count": 0,
   "metadata": {
    "application/vnd.databricks.v1+cell": {
     "cellMetadata": {
      "byteLimit": 2048000,
      "rowLimit": 10000
     },
     "inputWidgets": {},
     "nuid": "691286ab-39f8-4479-9bc8-fdbfb4320c3d",
     "showTitle": false,
     "title": ""
    }
   },
   "outputs": [
    {
     "output_type": "stream",
     "name": "stdout",
     "output_type": "stream",
     "text": [
      "+-----+----+---------+-----------+----------+---------+---------+---------+---------+---------+---+------------+----+------------+----+----+\n|Store|Date|IsHoliday|Temperature|Fuel_Price|MarkDown1|MarkDown2|MarkDown3|MarkDown4|MarkDown5|CPI|Unemployment|Dept|Weekly_Sales|Type|Size|\n+-----+----+---------+-----------+----------+---------+---------+---------+---------+---------+---+------------+----+------------+----+----+\n|    0|   0|        0|          0|         0|   270889|   310322|   284479|   286603|   270138|  0|           0|   0|           0|   0|   0|\n+-----+----+---------+-----------+----------+---------+---------+---------+---------+---------+---+------------+----+------------+----+----+\n\n"
     ]
    }
   ],
   "source": [
    "null_counts = df_all.select([sum(col(column).isNull().cast('int')).alias(column) for column in df_all.columns])\n",
    "\n",
    "null_counts.show()"
   ]
  },
  {
   "cell_type": "code",
   "execution_count": 0,
   "metadata": {
    "application/vnd.databricks.v1+cell": {
     "cellMetadata": {
      "byteLimit": 2048000,
      "rowLimit": 10000
     },
     "inputWidgets": {},
     "nuid": "0729aef4-9964-40ef-8060-64c9efb04630",
     "showTitle": false,
     "title": ""
    }
   },
   "outputs": [],
   "source": [
    "df_na=df_all.select([count(when(col(c).contains('NA'),c)).alias(c) for c in df_all.columns])"
   ]
  },
  {
   "cell_type": "code",
   "execution_count": 0,
   "metadata": {
    "application/vnd.databricks.v1+cell": {
     "cellMetadata": {
      "byteLimit": 2048000,
      "rowLimit": 10000
     },
     "inputWidgets": {},
     "nuid": "58070972-10af-49f6-b107-a939bc7bfe0f",
     "showTitle": false,
     "title": ""
    }
   },
   "outputs": [
    {
     "output_type": "stream",
     "name": "stdout",
     "output_type": "stream",
     "text": [
      "+-----+----+---------+-----------+----------+---------+---------+---------+---------+---------+---+------------+----+------------+----+----+\n|Store|Date|IsHoliday|Temperature|Fuel_Price|MarkDown1|MarkDown2|MarkDown3|MarkDown4|MarkDown5|CPI|Unemployment|Dept|Weekly_Sales|Type|Size|\n+-----+----+---------+-----------+----------+---------+---------+---------+---------+---------+---+------------+----+------------+----+----+\n|    0|   0|        0|          0|         0|        0|        0|        0|        0|        0|  0|           0|   0|           0|   0|   0|\n+-----+----+---------+-----------+----------+---------+---------+---------+---------+---------+---+------------+----+------------+----+----+\n\n"
     ]
    }
   ],
   "source": [
    "df_na.show()"
   ]
  },
  {
   "cell_type": "code",
   "execution_count": 0,
   "metadata": {
    "application/vnd.databricks.v1+cell": {
     "cellMetadata": {
      "byteLimit": 2048000,
      "rowLimit": 10000
     },
     "inputWidgets": {},
     "nuid": "69f4fa54-495c-491e-b401-7aba9960eb2b",
     "showTitle": false,
     "title": ""
    }
   },
   "outputs": [
    {
     "output_type": "execute_result",
     "data": {
      "text/plain": [
       "[('Store', 'int'),\n",
       " ('Date', 'date'),\n",
       " ('IsHoliday', 'boolean'),\n",
       " ('Temperature', 'double'),\n",
       " ('Fuel_Price', 'double'),\n",
       " ('MarkDown1', 'float'),\n",
       " ('MarkDown2', 'float'),\n",
       " ('MarkDown3', 'float'),\n",
       " ('MarkDown4', 'float'),\n",
       " ('MarkDown5', 'float'),\n",
       " ('CPI', 'float'),\n",
       " ('Unemployment', 'float'),\n",
       " ('Dept', 'int'),\n",
       " ('Weekly_Sales', 'double'),\n",
       " ('Type', 'string'),\n",
       " ('Size', 'int')]"
      ]
     },
     "execution_count": 125,
     "metadata": {},
     "output_type": "execute_result"
    }
   ],
   "source": [
    "df_all.dtypes"
   ]
  },
  {
   "cell_type": "code",
   "execution_count": 0,
   "metadata": {
    "application/vnd.databricks.v1+cell": {
     "cellMetadata": {
      "byteLimit": 2048000,
      "rowLimit": 10000
     },
     "inputWidgets": {},
     "nuid": "0c226260-a8b4-44bc-9028-3c018b48e5ee",
     "showTitle": false,
     "title": ""
    }
   },
   "outputs": [
    {
     "output_type": "stream",
     "name": "stdout",
     "output_type": "stream",
     "text": [
      "+-----+----------+---------+-----------+----------+---------+---------+---------+---------+---------+---------+------------+----+------------+----+------+\n|Store|      Date|IsHoliday|Temperature|Fuel_Price|MarkDown1|MarkDown2|MarkDown3|MarkDown4|MarkDown5|      CPI|Unemployment|Dept|Weekly_Sales|Type|  Size|\n+-----+----------+---------+-----------+----------+---------+---------+---------+---------+---------+---------+------------+----+------------+----+------+\n|    1|2010-02-05|    false|      42.31|     2.572|     NULL|     NULL|     NULL|     NULL|     NULL|211.09636|       8.106|   1|     24924.5|   A|151315|\n|    1|2010-02-12|     true|      38.51|     2.548|     NULL|     NULL|     NULL|     NULL|     NULL|211.24217|       8.106|   1|    46039.49|   A|151315|\n|    1|2010-02-19|    false|      39.93|     2.514|     NULL|     NULL|     NULL|     NULL|     NULL|211.28914|       8.106|   1|    41595.55|   A|151315|\n|    1|2010-02-26|    false|      46.63|     2.561|     NULL|     NULL|     NULL|     NULL|     NULL|211.31964|       8.106|   1|    19403.54|   A|151315|\n|    1|2010-03-05|    false|       46.5|     2.625|     NULL|     NULL|     NULL|     NULL|     NULL|211.35014|       8.106|   1|     21827.9|   A|151315|\n|    1|2010-03-12|    false|      57.79|     2.667|     NULL|     NULL|     NULL|     NULL|     NULL|211.38065|       8.106|   1|    21043.39|   A|151315|\n|    1|2010-03-19|    false|      54.58|      2.72|     NULL|     NULL|     NULL|     NULL|     NULL|211.21564|       8.106|   1|    22136.64|   A|151315|\n|    1|2010-03-26|    false|      51.45|     2.732|     NULL|     NULL|     NULL|     NULL|     NULL|211.01804|       8.106|   1|    26229.21|   A|151315|\n|    1|2010-04-02|    false|      62.27|     2.719|     NULL|     NULL|     NULL|     NULL|     NULL|210.82045|       7.808|   1|    57258.43|   A|151315|\n|    1|2010-04-09|    false|      65.86|      2.77|     NULL|     NULL|     NULL|     NULL|     NULL|210.62286|       7.808|   1|    42960.91|   A|151315|\n|    1|2010-04-16|    false|      66.32|     2.808|     NULL|     NULL|     NULL|     NULL|     NULL| 210.4887|       7.808|   1|    17596.96|   A|151315|\n|    1|2010-04-23|    false|      64.84|     2.795|     NULL|     NULL|     NULL|     NULL|     NULL|210.43912|       7.808|   1|    16145.35|   A|151315|\n|    1|2010-04-30|    false|      67.41|      2.78|     NULL|     NULL|     NULL|     NULL|     NULL|210.38954|       7.808|   1|    16555.11|   A|151315|\n|    1|2010-05-07|    false|      72.55|     2.835|     NULL|     NULL|     NULL|     NULL|     NULL|210.33997|       7.808|   1|    17413.94|   A|151315|\n|    1|2010-05-14|    false|      74.78|     2.854|     NULL|     NULL|     NULL|     NULL|     NULL|210.33743|       7.808|   1|    18926.74|   A|151315|\n|    1|2010-05-21|    false|      76.44|     2.826|     NULL|     NULL|     NULL|     NULL|     NULL| 210.6171|       7.808|   1|    14773.04|   A|151315|\n|    1|2010-05-28|    false|      80.44|     2.759|     NULL|     NULL|     NULL|     NULL|     NULL|210.89676|       7.808|   1|    15580.43|   A|151315|\n|    1|2010-06-04|    false|      80.69|     2.705|     NULL|     NULL|     NULL|     NULL|     NULL|211.17642|       7.808|   1|    17558.09|   A|151315|\n|    1|2010-06-11|    false|      80.43|     2.668|     NULL|     NULL|     NULL|     NULL|     NULL| 211.4561|       7.808|   1|    16637.62|   A|151315|\n|    1|2010-06-18|    false|      84.11|     2.637|     NULL|     NULL|     NULL|     NULL|     NULL|211.45377|       7.808|   1|    16216.27|   A|151315|\n+-----+----------+---------+-----------+----------+---------+---------+---------+---------+---------+---------+------------+----+------------+----+------+\nonly showing top 20 rows\n\n"
     ]
    }
   ],
   "source": [
    "df_all.show()"
   ]
  },
  {
   "cell_type": "code",
   "execution_count": 0,
   "metadata": {
    "application/vnd.databricks.v1+cell": {
     "cellMetadata": {
      "byteLimit": 2048000,
      "rowLimit": 10000
     },
     "inputWidgets": {},
     "nuid": "1f0dfbfa-5936-4f54-a603-4417fecea82b",
     "showTitle": false,
     "title": ""
    }
   },
   "outputs": [
    {
     "output_type": "stream",
     "name": "stdout",
     "output_type": "stream",
     "text": [
      "Column 'Store': 0.00%\nColumn 'Date': 0.00%\nColumn 'IsHoliday': 0.00%\nColumn 'Temperature': 0.00%\nColumn 'Fuel_Price': 0.00%\nColumn 'MarkDown1': 64.26%\nColumn 'MarkDown2': 73.61%\nColumn 'MarkDown3': 67.48%\nColumn 'MarkDown4': 67.98%\nColumn 'MarkDown5': 64.08%\nColumn 'CPI': 0.00%\nColumn 'Unemployment': 0.00%\nColumn 'Dept': 0.00%\nColumn 'Weekly_Sales': 0.00%\nColumn 'Type': 0.00%\nColumn 'Size': 0.00%\n"
     ]
    }
   ],
   "source": [
    "total_rows = df_all.count()\n",
    "null_percentages = {}\n",
    "\n",
    "for column_name in df_all.columns:\n",
    "    null_count = df_all.filter(col(column_name).isNull()).count()\n",
    "    null_percentage = (null_count / total_rows) * 100\n",
    "    null_percentages[column_name] = null_percentage\n",
    "\n",
    "for column_name, null_percentage in null_percentages.items():\n",
    "    print(f\"Column '{column_name}': {null_percentage:.2f}%\")"
   ]
  },
  {
   "cell_type": "code",
   "execution_count": 0,
   "metadata": {
    "application/vnd.databricks.v1+cell": {
     "cellMetadata": {
      "byteLimit": 2048000,
      "rowLimit": 10000
     },
     "inputWidgets": {},
     "nuid": "4dd0bd31-4104-446a-8bac-f0a318911647",
     "showTitle": false,
     "title": ""
    }
   },
   "outputs": [
    {
     "output_type": "display_data",
     "data": {
      "text/plain": [
       ""
      ]
     },
     "metadata": {
      "application/vnd.databricks.v1+output": {
       "arguments": {},
       "data": "",
       "errorSummary": "Command skipped",
       "errorTraceType": "ansi",
       "metadata": {},
       "type": "ipynbError"
      }
     },
     "output_type": "display_data"
    }
   ],
   "source": [
    "df_all.show()"
   ]
  },
  {
   "cell_type": "code",
   "execution_count": 0,
   "metadata": {
    "application/vnd.databricks.v1+cell": {
     "cellMetadata": {
      "byteLimit": 2048000,
      "rowLimit": 10000
     },
     "inputWidgets": {},
     "nuid": "f6b12366-3672-4b65-83ab-652eaa65202d",
     "showTitle": false,
     "title": ""
    }
   },
   "outputs": [],
   "source": [
    "df_all=df_all.fillna(0,subset=[\"MarkDown1\",\"MarkDown2\",\"MarkDown3\",\"MarkDown4\",\"MarkDown5\"])"
   ]
  },
  {
   "cell_type": "code",
   "execution_count": 0,
   "metadata": {
    "application/vnd.databricks.v1+cell": {
     "cellMetadata": {
      "byteLimit": 2048000,
      "rowLimit": 10000
     },
     "inputWidgets": {},
     "nuid": "7637726c-4b72-4c01-91f0-19ab35b10769",
     "showTitle": false,
     "title": ""
    }
   },
   "outputs": [
    {
     "output_type": "stream",
     "name": "stdout",
     "output_type": "stream",
     "text": [
      "+-----+----------+---------+-----------+----------+---------+---------+---------+---------+---------+---------+------------+----+------------+----+------+\n|Store|      Date|IsHoliday|Temperature|Fuel_Price|MarkDown1|MarkDown2|MarkDown3|MarkDown4|MarkDown5|      CPI|Unemployment|Dept|Weekly_Sales|Type|  Size|\n+-----+----------+---------+-----------+----------+---------+---------+---------+---------+---------+---------+------------+----+------------+----+------+\n|    1|2010-02-05|    false|      42.31|     2.572|      0.0|      0.0|      0.0|      0.0|      0.0|211.09636|       8.106|   1|     24924.5|   A|151315|\n|    1|2010-02-12|     true|      38.51|     2.548|      0.0|      0.0|      0.0|      0.0|      0.0|211.24217|       8.106|   1|    46039.49|   A|151315|\n|    1|2010-02-19|    false|      39.93|     2.514|      0.0|      0.0|      0.0|      0.0|      0.0|211.28914|       8.106|   1|    41595.55|   A|151315|\n|    1|2010-02-26|    false|      46.63|     2.561|      0.0|      0.0|      0.0|      0.0|      0.0|211.31964|       8.106|   1|    19403.54|   A|151315|\n|    1|2010-03-05|    false|       46.5|     2.625|      0.0|      0.0|      0.0|      0.0|      0.0|211.35014|       8.106|   1|     21827.9|   A|151315|\n|    1|2010-03-12|    false|      57.79|     2.667|      0.0|      0.0|      0.0|      0.0|      0.0|211.38065|       8.106|   1|    21043.39|   A|151315|\n|    1|2010-03-19|    false|      54.58|      2.72|      0.0|      0.0|      0.0|      0.0|      0.0|211.21564|       8.106|   1|    22136.64|   A|151315|\n|    1|2010-03-26|    false|      51.45|     2.732|      0.0|      0.0|      0.0|      0.0|      0.0|211.01804|       8.106|   1|    26229.21|   A|151315|\n|    1|2010-04-02|    false|      62.27|     2.719|      0.0|      0.0|      0.0|      0.0|      0.0|210.82045|       7.808|   1|    57258.43|   A|151315|\n|    1|2010-04-09|    false|      65.86|      2.77|      0.0|      0.0|      0.0|      0.0|      0.0|210.62286|       7.808|   1|    42960.91|   A|151315|\n|    1|2010-04-16|    false|      66.32|     2.808|      0.0|      0.0|      0.0|      0.0|      0.0| 210.4887|       7.808|   1|    17596.96|   A|151315|\n|    1|2010-04-23|    false|      64.84|     2.795|      0.0|      0.0|      0.0|      0.0|      0.0|210.43912|       7.808|   1|    16145.35|   A|151315|\n|    1|2010-04-30|    false|      67.41|      2.78|      0.0|      0.0|      0.0|      0.0|      0.0|210.38954|       7.808|   1|    16555.11|   A|151315|\n|    1|2010-05-07|    false|      72.55|     2.835|      0.0|      0.0|      0.0|      0.0|      0.0|210.33997|       7.808|   1|    17413.94|   A|151315|\n|    1|2010-05-14|    false|      74.78|     2.854|      0.0|      0.0|      0.0|      0.0|      0.0|210.33743|       7.808|   1|    18926.74|   A|151315|\n|    1|2010-05-21|    false|      76.44|     2.826|      0.0|      0.0|      0.0|      0.0|      0.0| 210.6171|       7.808|   1|    14773.04|   A|151315|\n|    1|2010-05-28|    false|      80.44|     2.759|      0.0|      0.0|      0.0|      0.0|      0.0|210.89676|       7.808|   1|    15580.43|   A|151315|\n|    1|2010-06-04|    false|      80.69|     2.705|      0.0|      0.0|      0.0|      0.0|      0.0|211.17642|       7.808|   1|    17558.09|   A|151315|\n|    1|2010-06-11|    false|      80.43|     2.668|      0.0|      0.0|      0.0|      0.0|      0.0| 211.4561|       7.808|   1|    16637.62|   A|151315|\n|    1|2010-06-18|    false|      84.11|     2.637|      0.0|      0.0|      0.0|      0.0|      0.0|211.45377|       7.808|   1|    16216.27|   A|151315|\n+-----+----------+---------+-----------+----------+---------+---------+---------+---------+---------+---------+------------+----+------------+----+------+\nonly showing top 20 rows\n\n"
     ]
    }
   ],
   "source": [
    "df_all.show()"
   ]
  },
  {
   "cell_type": "code",
   "execution_count": 0,
   "metadata": {
    "application/vnd.databricks.v1+cell": {
     "cellMetadata": {
      "byteLimit": 2048000,
      "rowLimit": 10000
     },
     "inputWidgets": {},
     "nuid": "182c15d3-85ef-4337-9700-4271ed2c7d94",
     "showTitle": false,
     "title": ""
    }
   },
   "outputs": [
    {
     "output_type": "execute_result",
     "data": {
      "text/plain": [
       "[FileInfo(path='dbfs:/mnt/mp2/Features data set.csv', name='Features data set.csv', size=600478, modificationTime=1696476990000),\n",
       " FileInfo(path='dbfs:/mnt/mp2/sales data-set.csv', name='sales data-set.csv', size=13264115, modificationTime=1696476992000),\n",
       " FileInfo(path='dbfs:/mnt/mp2/stores data-set.csv', name='stores data-set.csv', size=577, modificationTime=1696476989000)]"
      ]
     },
     "execution_count": 135,
     "metadata": {},
     "output_type": "execute_result"
    }
   ],
   "source": [
    "dbutils.fs.ls(\"./mnt/mp2\")"
   ]
  },
  {
   "cell_type": "code",
   "execution_count": 0,
   "metadata": {
    "application/vnd.databricks.v1+cell": {
     "cellMetadata": {
      "byteLimit": 2048000,
      "rowLimit": 10000
     },
     "inputWidgets": {},
     "nuid": "ae16ae61-cce8-407e-94d8-2409b7518ad8",
     "showTitle": false,
     "title": ""
    }
   },
   "outputs": [],
   "source": [
    "strSource=\"wasbs://curated@sa05octshivamgen2.blob.core.windows.net/\"\n",
    "strMountPoint=\"/mnt/mp4\"\n",
    "strKey=\"fs.azure.account.key.sa05octshivamgen2.blob.core.windows.net\"\n",
    "strValue=\"Nr5faSmBunxUlvxf0cXkqniv27eVD06QVLXf14JtzrR87/7HDGNlIZLzdI+71e+eRMV3xjuF9RlT+AStLs17Fg==\"\n",
    "\n",
    "result=dbutils.fs.mount(\n",
    "    source=strSource,\n",
    "    mount_point=strMountPoint,\n",
    "    extra_configs={strKey:strValue}\n",
    ")"
   ]
  },
  {
   "cell_type": "code",
   "execution_count": 0,
   "metadata": {
    "application/vnd.databricks.v1+cell": {
     "cellMetadata": {
      "byteLimit": 2048000,
      "rowLimit": 10000
     },
     "inputWidgets": {},
     "nuid": "1d21cebd-3471-4a20-b987-6d3a4d8cefb0",
     "showTitle": false,
     "title": ""
    }
   },
   "outputs": [],
   "source": [
    "df_all.write.mode(\"overwrite\").parquet(path=\"/mnt/mp4\")"
   ]
  }
 ],
 "metadata": {
  "application/vnd.databricks.v1+notebook": {
   "dashboards": [],
   "language": "python",
   "notebookMetadata": {
    "mostRecentlyExecutedCommandWithImplicitDF": {
     "commandId": 2488025074390863,
     "dataframes": [
      "_sqldf"
     ]
    },
    "pythonIndentUnit": 4
   },
   "notebookName": "Mounting",
   "widgets": {}
  }
 },
 "nbformat": 4,
 "nbformat_minor": 0
}
